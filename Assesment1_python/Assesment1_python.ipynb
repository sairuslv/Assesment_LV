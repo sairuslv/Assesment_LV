{
  "nbformat": 4,
  "nbformat_minor": 0,
  "metadata": {
    "colab": {
      "provenance": []
    },
    "kernelspec": {
      "name": "python3",
      "display_name": "Python 3"
    },
    "language_info": {
      "name": "python"
    }
  },
  "cells": [
    {
      "cell_type": "code",
      "source": [
        "#1\n",
        "len=int(input(\"Enter the length of rectangle: \"))\n",
        "wid=int(input(\"Enter the width of the rectangle: \"))\n",
        "print(f\"Area of the rectangle is {len*wid}\");"
      ],
      "metadata": {
        "colab": {
          "base_uri": "https://localhost:8080/"
        },
        "id": "yGgjBdFVdkBo",
        "outputId": "0dc4dd5f-cf5c-4a0f-8f16-81a3844183bf"
      },
      "execution_count": 1,
      "outputs": [
        {
          "output_type": "stream",
          "name": "stdout",
          "text": [
            "Enter the length of rectangle: 10\n",
            "Enter the width of the rectangle: 20\n",
            "Area of the rectangle is 200\n"
          ]
        }
      ]
    },
    {
      "cell_type": "code",
      "source": [
        "#2\n",
        "wieght= float(input(\"Enter the weight in kg: \"))\n",
        "height= float(input(\"Enter the height in meter: \"))\n",
        "print(f\"Your BMI is {round(wieght/(height**2),2)}\")"
      ],
      "metadata": {
        "colab": {
          "base_uri": "https://localhost:8080/"
        },
        "id": "o-pxpEnvd492",
        "outputId": "19dd0d05-b26b-4b6c-b49e-5951165a1d4b"
      },
      "execution_count": 4,
      "outputs": [
        {
          "output_type": "stream",
          "name": "stdout",
          "text": [
            "Enter the weight in kg: 81.8\n",
            "Enter the height in meter: 1.6\n",
            "Your BMI is 31.95\n"
          ]
        }
      ]
    },
    {
      "cell_type": "code",
      "source": [
        "#3\n",
        "stu_details={}\n",
        "while True:\n",
        "  stu_name=input(\"Enter student name or end to quit program: \")\n",
        "  if(stu_name.lower()==\"end\"):\n",
        "    break;\n",
        "  stu_score=input(\"Enter student score: \")\n",
        "  stu_details[stu_name]=stu_score;\n",
        "\n",
        "for x,y in stu_details.items():\n",
        "  print(f\"Student {x} is having a score of {y} \")\n",
        ""
      ],
      "metadata": {
        "colab": {
          "base_uri": "https://localhost:8080/"
        },
        "id": "vtA6DNhDeVS3",
        "outputId": "63f7aef2-9cd3-4c1d-bdf0-3f63cbe81d0b"
      },
      "execution_count": 7,
      "outputs": [
        {
          "output_type": "stream",
          "name": "stdout",
          "text": [
            "Enter student name or end to quit program: Sai\n",
            "Enter student score: 80\n",
            "Enter student name or end to quit program: Sam\n",
            "Enter student score: 75\n",
            "Enter student name or end to quit program: EnD\n",
            "Student Sai is having a score of 80 \n",
            "Student Sam is having a score of 75 \n"
          ]
        }
      ]
    },
    {
      "cell_type": "code",
      "source": [
        "#4\n",
        "age= int(input(\"Enter your age: \"))\n",
        "if(age<18):\n",
        "  print(\"You are a minor\")\n",
        "elif(age>=18 and age<50):\n",
        "  print(\"You are an adult\")\n",
        "else:\n",
        "  print(\"You are a senior\")\n",
        "\n",
        "\n"
      ],
      "metadata": {
        "colab": {
          "base_uri": "https://localhost:8080/"
        },
        "id": "PzvOM3HXfUWp",
        "outputId": "b916af73-de5b-440b-8cab-b7f5477b1446"
      },
      "execution_count": 9,
      "outputs": [
        {
          "output_type": "stream",
          "name": "stdout",
          "text": [
            "Enter your age: 12\n",
            "You are a minor\n"
          ]
        }
      ]
    },
    {
      "cell_type": "code",
      "source": [
        "#5\n",
        "for i in range(50):\n",
        "  if(i%2==0):\n",
        "    print(f\"{i}, \",end=\"\")"
      ],
      "metadata": {
        "colab": {
          "base_uri": "https://localhost:8080/"
        },
        "id": "PmxbLhq_gJtm",
        "outputId": "0b6a91b0-017f-45e3-ab6c-95926c84d78f"
      },
      "execution_count": 15,
      "outputs": [
        {
          "output_type": "stream",
          "name": "stdout",
          "text": [
            "0, 2, 4, 6, 8, 10, 12, 14, 16, 18, 20, 22, 24, 26, 28, 30, 32, 34, 36, 38, 40, 42, 44, 46, 48, "
          ]
        }
      ]
    },
    {
      "cell_type": "code",
      "source": [
        "#6\n",
        "data={}\n",
        "name= input(\"Enter your usename: \")\n",
        "psswrd= input(\"Enter your password: \")\n",
        "data[name]=psswrd;\n",
        "\n",
        "while True:\n",
        "  temp=input(\"Verify your password: \")\n",
        "  if(data[name]!=temp):\n",
        "    print(\"You have entered wrong password: \")\n",
        "  elif(data[name]==temp):\n",
        "    print(\"Thank you for entering correct password! \")\n",
        "    break;\n"
      ],
      "metadata": {
        "colab": {
          "base_uri": "https://localhost:8080/"
        },
        "id": "qonFQaNygo6R",
        "outputId": "f0f19546-284c-405f-ee17-a66de2b56ff2"
      },
      "execution_count": 16,
      "outputs": [
        {
          "output_type": "stream",
          "name": "stdout",
          "text": [
            "Enter your usename: sai\n",
            "Enter your password: 1234\n",
            "Verify your password: 5678\n",
            "You have entered wrong password: \n",
            "Verify your password: 54687\n",
            "You have entered wrong password: \n",
            "Verify your password: 1234\n",
            "Thank you for entering correct password! \n"
          ]
        }
      ]
    },
    {
      "cell_type": "code",
      "source": [
        "#7\n",
        "n= int(input(\"Enter number of digits you want to enter: \"))\n",
        "sum=0\n",
        "for i in range(n):\n",
        "  sum+=int(input(f\"Enter your digit number {i+1} : \"))\n",
        "\n",
        "print(f\"Your average of all number is {round(float(sum/n),2)}\")\n",
        "\n"
      ],
      "metadata": {
        "colab": {
          "base_uri": "https://localhost:8080/"
        },
        "id": "s1C1LdIGh_9y",
        "outputId": "1376d689-c636-4770-c3c5-067cee76c106"
      },
      "execution_count": 17,
      "outputs": [
        {
          "output_type": "stream",
          "name": "stdout",
          "text": [
            "Enter number of digits you want to enter: 5\n",
            "Enter your digit number 1 : 1\n",
            "Enter your digit number 2 : 8\n",
            "Enter your digit number 3 : 6\n",
            "Enter your digit number 4 : 7\n",
            "Enter your digit number 5 : 5\n",
            "Your average of all number is 5.4\n"
          ]
        }
      ]
    },
    {
      "cell_type": "code",
      "source": [
        "#8\n",
        "strng= input(\"Enter your string: \")\n",
        "vb=['a','e','i','o','u']\n",
        "ans=0\n",
        "for i in strng:\n",
        "  if(i in vb):\n",
        "    ans+=1;\n",
        "\n",
        "print(f\"Number of vowels in the string is/are: {ans}.\")"
      ],
      "metadata": {
        "colab": {
          "base_uri": "https://localhost:8080/"
        },
        "id": "iWFFlEbdi5ez",
        "outputId": "0efb2dcc-6fda-40c4-9b28-53a132b69309"
      },
      "execution_count": 18,
      "outputs": [
        {
          "output_type": "stream",
          "name": "stdout",
          "text": [
            "Enter your string: abcdefghiju\n",
            "Number of vowels in the string is/are: 4.\n"
          ]
        }
      ]
    },
    {
      "cell_type": "code",
      "source": [
        "#9\n",
        "import datetime\n",
        "print(datetime.datetime.now() )"
      ],
      "metadata": {
        "colab": {
          "base_uri": "https://localhost:8080/"
        },
        "id": "GLh7FFM7jbDo",
        "outputId": "5c701872-f4ed-4af6-db34-4b09862015d4"
      },
      "execution_count": 70,
      "outputs": [
        {
          "output_type": "stream",
          "name": "stdout",
          "text": [
            "2024-03-14 11:12:06.133796\n"
          ]
        }
      ]
    },
    {
      "cell_type": "code",
      "source": [
        "#10\n",
        "a=input(\"Enter number 1: \")\n",
        "b=input(\"Enter number 2: \")\n",
        "try:\n",
        "  sum=int(a+b);\n",
        "  print(f\"Your sum is {sum}\")\n",
        "except:\n",
        "  print(\"Error has occured maybe because of input datatype.\")"
      ],
      "metadata": {
        "colab": {
          "base_uri": "https://localhost:8080/"
        },
        "id": "ZeFrQ2Hnk0mq",
        "outputId": "b9bf6e98-89cf-4dd8-d893-42604e85499b"
      },
      "execution_count": 34,
      "outputs": [
        {
          "output_type": "stream",
          "name": "stdout",
          "text": [
            "Enter number 1: a\n",
            "Enter number 2: 4\n",
            "Error has occured maybe because of input datatype.\n"
          ]
        }
      ]
    },
    {
      "cell_type": "code",
      "source": [
        "#11\n",
        "try:\n",
        "  a=int(input(\"Enter a number: \"))\n",
        "  print(f\"Your number is {a}\")\n",
        "except:\n",
        "  print(\"You have entered incorrect datatype\")\n"
      ],
      "metadata": {
        "colab": {
          "base_uri": "https://localhost:8080/"
        },
        "id": "B1SzXdHBlM7u",
        "outputId": "9811f57f-7f2d-4f55-f01d-092aee9c8f4b"
      },
      "execution_count": 39,
      "outputs": [
        {
          "output_type": "stream",
          "name": "stdout",
          "text": [
            "Enter a number: ad\n",
            "You have entered incorrect datatype\n"
          ]
        }
      ]
    },
    {
      "cell_type": "code",
      "source": [
        "#12\n",
        "from logging import exception\n",
        "a=int(input(\"Enter 1st number: \"))\n",
        "b=int(input(\"Enter 2nd number: \"))\n",
        "\n",
        "try:\n",
        "  print(f\"Disvision of these 2 numbers is {a/b}\")\n",
        "except:\n",
        "  print(\"Maybe you have entered a number that can't be divided.\")\n",
        "\n"
      ],
      "metadata": {
        "colab": {
          "base_uri": "https://localhost:8080/"
        },
        "id": "SQwDDZKtlzuE",
        "outputId": "1aaa7e0b-55be-4d7c-fa6c-9adb25a85bef"
      },
      "execution_count": 59,
      "outputs": [
        {
          "output_type": "stream",
          "name": "stdout",
          "text": [
            "Enter 1st number: 5\n",
            "Enter 2nd number: 0\n",
            "Maybe you have entered a number that can't be divided.\n"
          ]
        }
      ]
    },
    {
      "cell_type": "code",
      "source": [
        "#13\n",
        "f= open(\"/content/q13.txt\",'w')\n",
        "\n",
        "f.write(\"Hello, Python!\")\n",
        "print(\"File has been written! \")\n",
        "f.close();"
      ],
      "metadata": {
        "colab": {
          "base_uri": "https://localhost:8080/"
        },
        "id": "ttbVIs_DmjBj",
        "outputId": "a059d8d0-9b02-46bf-c2c9-e64de2e9b626"
      },
      "execution_count": 56,
      "outputs": [
        {
          "output_type": "stream",
          "name": "stdout",
          "text": [
            "File has been written! \n"
          ]
        }
      ]
    },
    {
      "cell_type": "code",
      "source": [
        "#14\n",
        "f= open(\"/content/q13.txt\",'r')\n",
        "\n",
        "print(f.read())\n",
        "f.close();"
      ],
      "metadata": {
        "colab": {
          "base_uri": "https://localhost:8080/"
        },
        "id": "pUyWczGpnCdA",
        "outputId": "79f09754-38f9-4946-e3c1-f5335d8de726"
      },
      "execution_count": 57,
      "outputs": [
        {
          "output_type": "stream",
          "name": "stdout",
          "text": [
            "Hello, Python!\n"
          ]
        }
      ]
    },
    {
      "cell_type": "code",
      "source": [
        "#15\n",
        "f=open(\"/content/q13.txt\",'a')\n",
        "\n",
        "f.write(\"\\nNew lines of text added! \")\n",
        "print(\"Some lines have been appended\")\n",
        "f.close();\n",
        "f= open(\"/content/q13.txt\",'r')\n",
        "\n",
        "print(f.read())\n",
        "f.close();\n"
      ],
      "metadata": {
        "colab": {
          "base_uri": "https://localhost:8080/"
        },
        "id": "bHIkBJuVndSL",
        "outputId": "f5bfe4ef-f65a-4531-9a30-dada1e239be7"
      },
      "execution_count": 58,
      "outputs": [
        {
          "output_type": "stream",
          "name": "stdout",
          "text": [
            "Some lines have been appended\n",
            "Hello, Python!\n",
            "New lines of text added! \n"
          ]
        }
      ]
    },
    {
      "cell_type": "code",
      "source": [
        "\n"
      ],
      "metadata": {
        "id": "qPD0QNTPnu60"
      },
      "execution_count": 51,
      "outputs": []
    },
    {
      "cell_type": "code",
      "source": [],
      "metadata": {
        "id": "kwrBdcvkoGqG"
      },
      "execution_count": null,
      "outputs": []
    }
  ]
}